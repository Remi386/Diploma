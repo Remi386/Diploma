{
 "cells": [
  {
   "cell_type": "code",
   "execution_count": 1,
   "id": "9517a6a6-4c57-4d79-964e-eeb67103eec4",
   "metadata": {},
   "outputs": [],
   "source": [
    "import pandas as pd\n",
    "import matplotlib.pyplot as plt\n",
    "import numpy as np\n",
    "import tensorflow as tf\n",
    "import seaborn as sns"
   ]
  },
  {
   "cell_type": "code",
   "execution_count": 2,
   "id": "c6d39111-4ad3-4ff8-8c6e-d2f71382f3a1",
   "metadata": {},
   "outputs": [
    {
     "name": "stdout",
     "output_type": "stream",
     "text": [
      "train size:  29823525 , test size:  12781537\n",
      "Final size:  42605062\n"
     ]
    },
    {
     "data": {
      "text/html": [
       "<div>\n",
       "<style scoped>\n",
       "    .dataframe tbody tr th:only-of-type {\n",
       "        vertical-align: middle;\n",
       "    }\n",
       "\n",
       "    .dataframe tbody tr th {\n",
       "        vertical-align: top;\n",
       "    }\n",
       "\n",
       "    .dataframe thead th {\n",
       "        text-align: right;\n",
       "    }\n",
       "</style>\n",
       "<table border=\"1\" class=\"dataframe\">\n",
       "  <thead>\n",
       "    <tr style=\"text-align: right;\">\n",
       "      <th></th>\n",
       "      <th>Unnamed: 0</th>\n",
       "      <th>trans_date_trans_time</th>\n",
       "      <th>cc_num</th>\n",
       "      <th>merchant</th>\n",
       "      <th>category</th>\n",
       "      <th>amt</th>\n",
       "      <th>first</th>\n",
       "      <th>last</th>\n",
       "      <th>gender</th>\n",
       "      <th>street</th>\n",
       "      <th>...</th>\n",
       "      <th>lat</th>\n",
       "      <th>long</th>\n",
       "      <th>city_pop</th>\n",
       "      <th>job</th>\n",
       "      <th>dob</th>\n",
       "      <th>trans_num</th>\n",
       "      <th>unix_time</th>\n",
       "      <th>merch_lat</th>\n",
       "      <th>merch_long</th>\n",
       "      <th>is_fraud</th>\n",
       "    </tr>\n",
       "  </thead>\n",
       "  <tbody>\n",
       "    <tr>\n",
       "      <th>0</th>\n",
       "      <td>0</td>\n",
       "      <td>2019-01-01 00:00:18</td>\n",
       "      <td>2703186189652095</td>\n",
       "      <td>fraud_Rippin, Kub and Mann</td>\n",
       "      <td>misc_net</td>\n",
       "      <td>4.97</td>\n",
       "      <td>Jennifer</td>\n",
       "      <td>Banks</td>\n",
       "      <td>F</td>\n",
       "      <td>561 Perry Cove</td>\n",
       "      <td>...</td>\n",
       "      <td>36.0788</td>\n",
       "      <td>-81.1781</td>\n",
       "      <td>3495</td>\n",
       "      <td>Psychologist, counselling</td>\n",
       "      <td>1988-03-09</td>\n",
       "      <td>0b242abb623afc578575680df30655b9</td>\n",
       "      <td>1325376018</td>\n",
       "      <td>36.011293</td>\n",
       "      <td>-82.048315</td>\n",
       "      <td>0</td>\n",
       "    </tr>\n",
       "    <tr>\n",
       "      <th>1</th>\n",
       "      <td>1</td>\n",
       "      <td>2019-01-01 00:00:44</td>\n",
       "      <td>630423337322</td>\n",
       "      <td>fraud_Heller, Gutmann and Zieme</td>\n",
       "      <td>grocery_pos</td>\n",
       "      <td>107.23</td>\n",
       "      <td>Stephanie</td>\n",
       "      <td>Gill</td>\n",
       "      <td>F</td>\n",
       "      <td>43039 Riley Greens Suite 393</td>\n",
       "      <td>...</td>\n",
       "      <td>48.8878</td>\n",
       "      <td>-118.2105</td>\n",
       "      <td>149</td>\n",
       "      <td>Special educational needs teacher</td>\n",
       "      <td>1978-06-21</td>\n",
       "      <td>1f76529f8574734946361c461b024d99</td>\n",
       "      <td>1325376044</td>\n",
       "      <td>49.159047</td>\n",
       "      <td>-118.186462</td>\n",
       "      <td>0</td>\n",
       "    </tr>\n",
       "    <tr>\n",
       "      <th>2</th>\n",
       "      <td>2</td>\n",
       "      <td>2019-01-01 00:00:51</td>\n",
       "      <td>38859492057661</td>\n",
       "      <td>fraud_Lind-Buckridge</td>\n",
       "      <td>entertainment</td>\n",
       "      <td>220.11</td>\n",
       "      <td>Edward</td>\n",
       "      <td>Sanchez</td>\n",
       "      <td>M</td>\n",
       "      <td>594 White Dale Suite 530</td>\n",
       "      <td>...</td>\n",
       "      <td>42.1808</td>\n",
       "      <td>-112.2620</td>\n",
       "      <td>4154</td>\n",
       "      <td>Nature conservation officer</td>\n",
       "      <td>1962-01-19</td>\n",
       "      <td>a1a22d70485983eac12b5b88dad1cf95</td>\n",
       "      <td>1325376051</td>\n",
       "      <td>43.150704</td>\n",
       "      <td>-112.154481</td>\n",
       "      <td>0</td>\n",
       "    </tr>\n",
       "    <tr>\n",
       "      <th>3</th>\n",
       "      <td>3</td>\n",
       "      <td>2019-01-01 00:01:16</td>\n",
       "      <td>3534093764340240</td>\n",
       "      <td>fraud_Kutch, Hermiston and Farrell</td>\n",
       "      <td>gas_transport</td>\n",
       "      <td>45.00</td>\n",
       "      <td>Jeremy</td>\n",
       "      <td>White</td>\n",
       "      <td>M</td>\n",
       "      <td>9443 Cynthia Court Apt. 038</td>\n",
       "      <td>...</td>\n",
       "      <td>46.2306</td>\n",
       "      <td>-112.1138</td>\n",
       "      <td>1939</td>\n",
       "      <td>Patent attorney</td>\n",
       "      <td>1967-01-12</td>\n",
       "      <td>6b849c168bdad6f867558c3793159a81</td>\n",
       "      <td>1325376076</td>\n",
       "      <td>47.034331</td>\n",
       "      <td>-112.561071</td>\n",
       "      <td>0</td>\n",
       "    </tr>\n",
       "    <tr>\n",
       "      <th>4</th>\n",
       "      <td>4</td>\n",
       "      <td>2019-01-01 00:03:06</td>\n",
       "      <td>375534208663984</td>\n",
       "      <td>fraud_Keeling-Crist</td>\n",
       "      <td>misc_pos</td>\n",
       "      <td>41.96</td>\n",
       "      <td>Tyler</td>\n",
       "      <td>Garcia</td>\n",
       "      <td>M</td>\n",
       "      <td>408 Bradley Rest</td>\n",
       "      <td>...</td>\n",
       "      <td>38.4207</td>\n",
       "      <td>-79.4629</td>\n",
       "      <td>99</td>\n",
       "      <td>Dance movement psychotherapist</td>\n",
       "      <td>1986-03-28</td>\n",
       "      <td>a41d7549acf90789359a9aa5346dcb46</td>\n",
       "      <td>1325376186</td>\n",
       "      <td>38.674999</td>\n",
       "      <td>-78.632459</td>\n",
       "      <td>0</td>\n",
       "    </tr>\n",
       "  </tbody>\n",
       "</table>\n",
       "<p>5 rows × 23 columns</p>\n",
       "</div>"
      ],
      "text/plain": [
       "   Unnamed: 0 trans_date_trans_time            cc_num  \\\n",
       "0           0   2019-01-01 00:00:18  2703186189652095   \n",
       "1           1   2019-01-01 00:00:44      630423337322   \n",
       "2           2   2019-01-01 00:00:51    38859492057661   \n",
       "3           3   2019-01-01 00:01:16  3534093764340240   \n",
       "4           4   2019-01-01 00:03:06   375534208663984   \n",
       "\n",
       "                             merchant       category     amt      first  \\\n",
       "0          fraud_Rippin, Kub and Mann       misc_net    4.97   Jennifer   \n",
       "1     fraud_Heller, Gutmann and Zieme    grocery_pos  107.23  Stephanie   \n",
       "2                fraud_Lind-Buckridge  entertainment  220.11     Edward   \n",
       "3  fraud_Kutch, Hermiston and Farrell  gas_transport   45.00     Jeremy   \n",
       "4                 fraud_Keeling-Crist       misc_pos   41.96      Tyler   \n",
       "\n",
       "      last gender                        street  ...      lat      long  \\\n",
       "0    Banks      F                561 Perry Cove  ...  36.0788  -81.1781   \n",
       "1     Gill      F  43039 Riley Greens Suite 393  ...  48.8878 -118.2105   \n",
       "2  Sanchez      M      594 White Dale Suite 530  ...  42.1808 -112.2620   \n",
       "3    White      M   9443 Cynthia Court Apt. 038  ...  46.2306 -112.1138   \n",
       "4   Garcia      M              408 Bradley Rest  ...  38.4207  -79.4629   \n",
       "\n",
       "   city_pop                                job         dob  \\\n",
       "0      3495          Psychologist, counselling  1988-03-09   \n",
       "1       149  Special educational needs teacher  1978-06-21   \n",
       "2      4154        Nature conservation officer  1962-01-19   \n",
       "3      1939                    Patent attorney  1967-01-12   \n",
       "4        99     Dance movement psychotherapist  1986-03-28   \n",
       "\n",
       "                          trans_num   unix_time  merch_lat  merch_long  \\\n",
       "0  0b242abb623afc578575680df30655b9  1325376018  36.011293  -82.048315   \n",
       "1  1f76529f8574734946361c461b024d99  1325376044  49.159047 -118.186462   \n",
       "2  a1a22d70485983eac12b5b88dad1cf95  1325376051  43.150704 -112.154481   \n",
       "3  6b849c168bdad6f867558c3793159a81  1325376076  47.034331 -112.561071   \n",
       "4  a41d7549acf90789359a9aa5346dcb46  1325376186  38.674999  -78.632459   \n",
       "\n",
       "   is_fraud  \n",
       "0         0  \n",
       "1         0  \n",
       "2         0  \n",
       "3         0  \n",
       "4         0  \n",
       "\n",
       "[5 rows x 23 columns]"
      ]
     },
     "execution_count": 2,
     "metadata": {},
     "output_type": "execute_result"
    }
   ],
   "source": [
    "df_train = pd.read_csv(\"datasets/fraudTrain.csv\")\n",
    "df_test = pd.read_csv(\"datasets/fraudTest.csv\")\n",
    "print(\"train size: \", df_train.size, \", test size: \", df_test.size)\n",
    "df = pd.concat([df_train, df_test], ignore_index=True)\n",
    "print(\"Final size: \", df.size)\n",
    "df.head(5)"
   ]
  },
  {
   "cell_type": "code",
   "execution_count": 3,
   "id": "c02e5ca1-84ff-4357-b4c4-3836f09cc520",
   "metadata": {},
   "outputs": [
    {
     "data": {
      "text/plain": [
       "Index(['Unnamed: 0', 'trans_date_trans_time', 'cc_num', 'merchant', 'category',\n",
       "       'amt', 'first', 'last', 'gender', 'street', 'city', 'state', 'zip',\n",
       "       'lat', 'long', 'city_pop', 'job', 'dob', 'trans_num', 'unix_time',\n",
       "       'merch_lat', 'merch_long', 'is_fraud'],\n",
       "      dtype='object')"
      ]
     },
     "execution_count": 3,
     "metadata": {},
     "output_type": "execute_result"
    }
   ],
   "source": [
    "df.columns"
   ]
  },
  {
   "cell_type": "code",
   "execution_count": 4,
   "id": "7a0c4eb2-93d7-48b6-b81c-9ee57aba53c9",
   "metadata": {},
   "outputs": [],
   "source": [
    "new_feature_names = ['index', 'transaction_time', 'account_number', 'merchant_name', 'category',\n",
    "                     'transaction_amount', 'first_name', 'last_name', 'gender', 'street', 'city', 'state', 'zip',\n",
    "                     'client_latitude', 'client_longitude', 'city_population', 'job', 'birthday', 'transaction_number', \n",
    "                     'unix_time', 'merchant_latitude', 'merchant_longitude', 'is_fraud']\n",
    "\n",
    "df.columns = new_feature_names"
   ]
  },
  {
   "cell_type": "code",
   "execution_count": 5,
   "id": "d0d6c5d8",
   "metadata": {},
   "outputs": [
    {
     "data": {
      "text/html": [
       "<div>\n",
       "<style scoped>\n",
       "    .dataframe tbody tr th:only-of-type {\n",
       "        vertical-align: middle;\n",
       "    }\n",
       "\n",
       "    .dataframe tbody tr th {\n",
       "        vertical-align: top;\n",
       "    }\n",
       "\n",
       "    .dataframe thead th {\n",
       "        text-align: right;\n",
       "    }\n",
       "</style>\n",
       "<table border=\"1\" class=\"dataframe\">\n",
       "  <thead>\n",
       "    <tr style=\"text-align: right;\">\n",
       "      <th></th>\n",
       "      <th>index</th>\n",
       "      <th>transaction_time</th>\n",
       "      <th>account_number</th>\n",
       "      <th>merchant_name</th>\n",
       "      <th>category</th>\n",
       "      <th>transaction_amount</th>\n",
       "      <th>first_name</th>\n",
       "      <th>last_name</th>\n",
       "      <th>gender</th>\n",
       "      <th>street</th>\n",
       "      <th>...</th>\n",
       "      <th>client_latitude</th>\n",
       "      <th>client_longitude</th>\n",
       "      <th>city_population</th>\n",
       "      <th>job</th>\n",
       "      <th>birthday</th>\n",
       "      <th>transaction_number</th>\n",
       "      <th>unix_time</th>\n",
       "      <th>merchant_latitude</th>\n",
       "      <th>merchant_longitude</th>\n",
       "      <th>is_fraud</th>\n",
       "    </tr>\n",
       "  </thead>\n",
       "  <tbody>\n",
       "    <tr>\n",
       "      <th>0</th>\n",
       "      <td>0</td>\n",
       "      <td>2019-01-01 00:00:18</td>\n",
       "      <td>2703186189652095</td>\n",
       "      <td>fraud_Rippin, Kub and Mann</td>\n",
       "      <td>misc_net</td>\n",
       "      <td>4.97</td>\n",
       "      <td>Jennifer</td>\n",
       "      <td>Banks</td>\n",
       "      <td>F</td>\n",
       "      <td>561 Perry Cove</td>\n",
       "      <td>...</td>\n",
       "      <td>36.0788</td>\n",
       "      <td>-81.1781</td>\n",
       "      <td>3495</td>\n",
       "      <td>Psychologist, counselling</td>\n",
       "      <td>1988-03-09</td>\n",
       "      <td>0b242abb623afc578575680df30655b9</td>\n",
       "      <td>1325376018</td>\n",
       "      <td>36.011293</td>\n",
       "      <td>-82.048315</td>\n",
       "      <td>0</td>\n",
       "    </tr>\n",
       "    <tr>\n",
       "      <th>1</th>\n",
       "      <td>1</td>\n",
       "      <td>2019-01-01 00:00:44</td>\n",
       "      <td>630423337322</td>\n",
       "      <td>fraud_Heller, Gutmann and Zieme</td>\n",
       "      <td>grocery_pos</td>\n",
       "      <td>107.23</td>\n",
       "      <td>Stephanie</td>\n",
       "      <td>Gill</td>\n",
       "      <td>F</td>\n",
       "      <td>43039 Riley Greens Suite 393</td>\n",
       "      <td>...</td>\n",
       "      <td>48.8878</td>\n",
       "      <td>-118.2105</td>\n",
       "      <td>149</td>\n",
       "      <td>Special educational needs teacher</td>\n",
       "      <td>1978-06-21</td>\n",
       "      <td>1f76529f8574734946361c461b024d99</td>\n",
       "      <td>1325376044</td>\n",
       "      <td>49.159047</td>\n",
       "      <td>-118.186462</td>\n",
       "      <td>0</td>\n",
       "    </tr>\n",
       "    <tr>\n",
       "      <th>2</th>\n",
       "      <td>2</td>\n",
       "      <td>2019-01-01 00:00:51</td>\n",
       "      <td>38859492057661</td>\n",
       "      <td>fraud_Lind-Buckridge</td>\n",
       "      <td>entertainment</td>\n",
       "      <td>220.11</td>\n",
       "      <td>Edward</td>\n",
       "      <td>Sanchez</td>\n",
       "      <td>M</td>\n",
       "      <td>594 White Dale Suite 530</td>\n",
       "      <td>...</td>\n",
       "      <td>42.1808</td>\n",
       "      <td>-112.2620</td>\n",
       "      <td>4154</td>\n",
       "      <td>Nature conservation officer</td>\n",
       "      <td>1962-01-19</td>\n",
       "      <td>a1a22d70485983eac12b5b88dad1cf95</td>\n",
       "      <td>1325376051</td>\n",
       "      <td>43.150704</td>\n",
       "      <td>-112.154481</td>\n",
       "      <td>0</td>\n",
       "    </tr>\n",
       "  </tbody>\n",
       "</table>\n",
       "<p>3 rows × 23 columns</p>\n",
       "</div>"
      ],
      "text/plain": [
       "   index     transaction_time    account_number  \\\n",
       "0      0  2019-01-01 00:00:18  2703186189652095   \n",
       "1      1  2019-01-01 00:00:44      630423337322   \n",
       "2      2  2019-01-01 00:00:51    38859492057661   \n",
       "\n",
       "                     merchant_name       category  transaction_amount  \\\n",
       "0       fraud_Rippin, Kub and Mann       misc_net                4.97   \n",
       "1  fraud_Heller, Gutmann and Zieme    grocery_pos              107.23   \n",
       "2             fraud_Lind-Buckridge  entertainment              220.11   \n",
       "\n",
       "  first_name last_name gender                        street  ...  \\\n",
       "0   Jennifer     Banks      F                561 Perry Cove  ...   \n",
       "1  Stephanie      Gill      F  43039 Riley Greens Suite 393  ...   \n",
       "2     Edward   Sanchez      M      594 White Dale Suite 530  ...   \n",
       "\n",
       "  client_latitude client_longitude  city_population  \\\n",
       "0         36.0788         -81.1781             3495   \n",
       "1         48.8878        -118.2105              149   \n",
       "2         42.1808        -112.2620             4154   \n",
       "\n",
       "                                 job    birthday  \\\n",
       "0          Psychologist, counselling  1988-03-09   \n",
       "1  Special educational needs teacher  1978-06-21   \n",
       "2        Nature conservation officer  1962-01-19   \n",
       "\n",
       "                 transaction_number   unix_time merchant_latitude  \\\n",
       "0  0b242abb623afc578575680df30655b9  1325376018         36.011293   \n",
       "1  1f76529f8574734946361c461b024d99  1325376044         49.159047   \n",
       "2  a1a22d70485983eac12b5b88dad1cf95  1325376051         43.150704   \n",
       "\n",
       "  merchant_longitude  is_fraud  \n",
       "0         -82.048315         0  \n",
       "1        -118.186462         0  \n",
       "2        -112.154481         0  \n",
       "\n",
       "[3 rows x 23 columns]"
      ]
     },
     "execution_count": 5,
     "metadata": {},
     "output_type": "execute_result"
    }
   ],
   "source": [
    "df.head(3)"
   ]
  },
  {
   "cell_type": "code",
   "execution_count": 6,
   "id": "3129355f",
   "metadata": {},
   "outputs": [
    {
     "data": {
      "text/plain": [
       "False"
      ]
     },
     "execution_count": 6,
     "metadata": {},
     "output_type": "execute_result"
    }
   ],
   "source": [
    "# Выясним, есть ли пропущенные значения\n",
    "df.isnull().any().any()"
   ]
  },
  {
   "cell_type": "code",
   "execution_count": 7,
   "id": "79b81064",
   "metadata": {},
   "outputs": [
    {
     "data": {
      "text/html": [
       "<div>\n",
       "<style scoped>\n",
       "    .dataframe tbody tr th:only-of-type {\n",
       "        vertical-align: middle;\n",
       "    }\n",
       "\n",
       "    .dataframe tbody tr th {\n",
       "        vertical-align: top;\n",
       "    }\n",
       "\n",
       "    .dataframe thead th {\n",
       "        text-align: right;\n",
       "    }\n",
       "</style>\n",
       "<table border=\"1\" class=\"dataframe\">\n",
       "  <thead>\n",
       "    <tr style=\"text-align: right;\">\n",
       "      <th></th>\n",
       "      <th>index</th>\n",
       "      <th>account_number</th>\n",
       "      <th>transaction_amount</th>\n",
       "      <th>zip</th>\n",
       "      <th>client_latitude</th>\n",
       "      <th>client_longitude</th>\n",
       "      <th>city_population</th>\n",
       "      <th>unix_time</th>\n",
       "      <th>merchant_latitude</th>\n",
       "      <th>merchant_longitude</th>\n",
       "      <th>is_fraud</th>\n",
       "    </tr>\n",
       "  </thead>\n",
       "  <tbody>\n",
       "    <tr>\n",
       "      <th>count</th>\n",
       "      <td>1.852394e+06</td>\n",
       "      <td>1.852394e+06</td>\n",
       "      <td>1.852394e+06</td>\n",
       "      <td>1.852394e+06</td>\n",
       "      <td>1.852394e+06</td>\n",
       "      <td>1.852394e+06</td>\n",
       "      <td>1.852394e+06</td>\n",
       "      <td>1.852394e+06</td>\n",
       "      <td>1.852394e+06</td>\n",
       "      <td>1.852394e+06</td>\n",
       "      <td>1.852394e+06</td>\n",
       "    </tr>\n",
       "    <tr>\n",
       "      <th>mean</th>\n",
       "      <td>5.371934e+05</td>\n",
       "      <td>4.173860e+17</td>\n",
       "      <td>7.006357e+01</td>\n",
       "      <td>4.881326e+04</td>\n",
       "      <td>3.853931e+01</td>\n",
       "      <td>-9.022783e+01</td>\n",
       "      <td>8.864367e+04</td>\n",
       "      <td>1.358674e+09</td>\n",
       "      <td>3.853898e+01</td>\n",
       "      <td>-9.022794e+01</td>\n",
       "      <td>5.210015e-03</td>\n",
       "    </tr>\n",
       "    <tr>\n",
       "      <th>std</th>\n",
       "      <td>3.669110e+05</td>\n",
       "      <td>1.309115e+18</td>\n",
       "      <td>1.592540e+02</td>\n",
       "      <td>2.688185e+04</td>\n",
       "      <td>5.071470e+00</td>\n",
       "      <td>1.374789e+01</td>\n",
       "      <td>3.014876e+05</td>\n",
       "      <td>1.819508e+07</td>\n",
       "      <td>5.105604e+00</td>\n",
       "      <td>1.375969e+01</td>\n",
       "      <td>7.199217e-02</td>\n",
       "    </tr>\n",
       "    <tr>\n",
       "      <th>min</th>\n",
       "      <td>0.000000e+00</td>\n",
       "      <td>6.041621e+10</td>\n",
       "      <td>1.000000e+00</td>\n",
       "      <td>1.257000e+03</td>\n",
       "      <td>2.002710e+01</td>\n",
       "      <td>-1.656723e+02</td>\n",
       "      <td>2.300000e+01</td>\n",
       "      <td>1.325376e+09</td>\n",
       "      <td>1.902742e+01</td>\n",
       "      <td>-1.666716e+02</td>\n",
       "      <td>0.000000e+00</td>\n",
       "    </tr>\n",
       "    <tr>\n",
       "      <th>25%</th>\n",
       "      <td>2.315490e+05</td>\n",
       "      <td>1.800429e+14</td>\n",
       "      <td>9.640000e+00</td>\n",
       "      <td>2.623700e+04</td>\n",
       "      <td>3.466890e+01</td>\n",
       "      <td>-9.679800e+01</td>\n",
       "      <td>7.410000e+02</td>\n",
       "      <td>1.343017e+09</td>\n",
       "      <td>3.474012e+01</td>\n",
       "      <td>-9.689944e+01</td>\n",
       "      <td>0.000000e+00</td>\n",
       "    </tr>\n",
       "    <tr>\n",
       "      <th>50%</th>\n",
       "      <td>4.630980e+05</td>\n",
       "      <td>3.521417e+15</td>\n",
       "      <td>4.745000e+01</td>\n",
       "      <td>4.817400e+04</td>\n",
       "      <td>3.935430e+01</td>\n",
       "      <td>-8.747690e+01</td>\n",
       "      <td>2.443000e+03</td>\n",
       "      <td>1.357089e+09</td>\n",
       "      <td>3.936890e+01</td>\n",
       "      <td>-8.744069e+01</td>\n",
       "      <td>0.000000e+00</td>\n",
       "    </tr>\n",
       "    <tr>\n",
       "      <th>75%</th>\n",
       "      <td>8.335758e+05</td>\n",
       "      <td>4.642255e+15</td>\n",
       "      <td>8.310000e+01</td>\n",
       "      <td>7.204200e+04</td>\n",
       "      <td>4.194040e+01</td>\n",
       "      <td>-8.015800e+01</td>\n",
       "      <td>2.032800e+04</td>\n",
       "      <td>1.374581e+09</td>\n",
       "      <td>4.195626e+01</td>\n",
       "      <td>-8.024511e+01</td>\n",
       "      <td>0.000000e+00</td>\n",
       "    </tr>\n",
       "    <tr>\n",
       "      <th>max</th>\n",
       "      <td>1.296674e+06</td>\n",
       "      <td>4.992346e+18</td>\n",
       "      <td>2.894890e+04</td>\n",
       "      <td>9.992100e+04</td>\n",
       "      <td>6.669330e+01</td>\n",
       "      <td>-6.795030e+01</td>\n",
       "      <td>2.906700e+06</td>\n",
       "      <td>1.388534e+09</td>\n",
       "      <td>6.751027e+01</td>\n",
       "      <td>-6.695090e+01</td>\n",
       "      <td>1.000000e+00</td>\n",
       "    </tr>\n",
       "  </tbody>\n",
       "</table>\n",
       "</div>"
      ],
      "text/plain": [
       "              index  account_number  transaction_amount           zip  \\\n",
       "count  1.852394e+06    1.852394e+06        1.852394e+06  1.852394e+06   \n",
       "mean   5.371934e+05    4.173860e+17        7.006357e+01  4.881326e+04   \n",
       "std    3.669110e+05    1.309115e+18        1.592540e+02  2.688185e+04   \n",
       "min    0.000000e+00    6.041621e+10        1.000000e+00  1.257000e+03   \n",
       "25%    2.315490e+05    1.800429e+14        9.640000e+00  2.623700e+04   \n",
       "50%    4.630980e+05    3.521417e+15        4.745000e+01  4.817400e+04   \n",
       "75%    8.335758e+05    4.642255e+15        8.310000e+01  7.204200e+04   \n",
       "max    1.296674e+06    4.992346e+18        2.894890e+04  9.992100e+04   \n",
       "\n",
       "       client_latitude  client_longitude  city_population     unix_time  \\\n",
       "count     1.852394e+06      1.852394e+06     1.852394e+06  1.852394e+06   \n",
       "mean      3.853931e+01     -9.022783e+01     8.864367e+04  1.358674e+09   \n",
       "std       5.071470e+00      1.374789e+01     3.014876e+05  1.819508e+07   \n",
       "min       2.002710e+01     -1.656723e+02     2.300000e+01  1.325376e+09   \n",
       "25%       3.466890e+01     -9.679800e+01     7.410000e+02  1.343017e+09   \n",
       "50%       3.935430e+01     -8.747690e+01     2.443000e+03  1.357089e+09   \n",
       "75%       4.194040e+01     -8.015800e+01     2.032800e+04  1.374581e+09   \n",
       "max       6.669330e+01     -6.795030e+01     2.906700e+06  1.388534e+09   \n",
       "\n",
       "       merchant_latitude  merchant_longitude      is_fraud  \n",
       "count       1.852394e+06        1.852394e+06  1.852394e+06  \n",
       "mean        3.853898e+01       -9.022794e+01  5.210015e-03  \n",
       "std         5.105604e+00        1.375969e+01  7.199217e-02  \n",
       "min         1.902742e+01       -1.666716e+02  0.000000e+00  \n",
       "25%         3.474012e+01       -9.689944e+01  0.000000e+00  \n",
       "50%         3.936890e+01       -8.744069e+01  0.000000e+00  \n",
       "75%         4.195626e+01       -8.024511e+01  0.000000e+00  \n",
       "max         6.751027e+01       -6.695090e+01  1.000000e+00  "
      ]
     },
     "execution_count": 7,
     "metadata": {},
     "output_type": "execute_result"
    }
   ],
   "source": [
    "df.describe()"
   ]
  },
  {
   "cell_type": "code",
   "execution_count": 8,
   "id": "d66c756e",
   "metadata": {},
   "outputs": [],
   "source": [
    "# Разделим возраст на несколько категорий:\n",
    "def GetAgeCatedory(age):\n",
    "    if age < 20:\n",
    "        return 0;\n",
    "    if age < 30:\n",
    "        return 1;\n",
    "    if age < 40:\n",
    "        return 2;\n",
    "    if age < 50:\n",
    "        return 3;\n",
    "    if age < 65:\n",
    "        return 4;\n",
    "    return 5;"
   ]
  },
  {
   "cell_type": "code",
   "execution_count": 9,
   "id": "3c7fdb91",
   "metadata": {},
   "outputs": [],
   "source": [
    "df[\"transaction_time\"] = pd.to_datetime(df[\"transaction_time\"])\n",
    "df[\"birthday\"] = pd.to_datetime(df[\"birthday\"])\n",
    "df[\"age\"] = (df[\"transaction_time\"] - df[\"birthday\"]).astype('timedelta64[Y]')\n",
    "df[\"age\"] = df[\"age\"].apply(GetAgeCatedory)\n",
    "\n",
    "df[\"transaction_time\"] = df[\"transaction_time\"].apply(lambda x: x.timestamp())\n",
    "df[\"birthday\"] = df[\"birthday\"].apply(lambda x: x.timestamp())\n",
    "\n",
    "df[\"gender\"] = df[\"gender\"].apply(lambda x: int(x == 'M'))\n",
    "df.drop(columns=[\"index\"], inplace=True)"
   ]
  },
  {
   "cell_type": "code",
   "execution_count": 10,
   "id": "48bc463a",
   "metadata": {},
   "outputs": [],
   "source": [
    "from sklearn.preprocessing import LabelEncoder\n",
    "from sklearn.preprocessing import StandardScaler\n",
    "from sklearn.preprocessing import RobustScaler\n",
    "from sklearn.ensemble import IsolationForest\n",
    "from imblearn.under_sampling import NearMiss\n",
    "from imblearn.over_sampling import SMOTE\n",
    "from sklearn.ensemble import ExtraTreesClassifier"
   ]
  },
  {
   "cell_type": "code",
   "execution_count": 11,
   "id": "1fbedcd4",
   "metadata": {},
   "outputs": [],
   "source": [
    "for column in df.columns:\n",
    "    if df[column].dtype == \"object\":\n",
    "        df[column] = LabelEncoder().fit_transform(df[column])\n",
    "    if df[column].dtype == \"bool\":\n",
    "        df[column] = df[column].apply(lambda x: int(x))"
   ]
  },
  {
   "cell_type": "code",
   "execution_count": 12,
   "id": "1ef155f0",
   "metadata": {},
   "outputs": [
    {
     "data": {
      "image/png": "[encoded data removed]",
      "text/plain": [
       "<Figure size 2500x8000 with 23 Axes>"
      ]
     },
     "metadata": {},
     "output_type": "display_data"
    }
   ],
   "source": [
    "# Отрисовываем диаграмму размаха для всех признаков\n",
    "plt.figure(figsize=(25, 80))\n",
    "\n",
    "for i,col in enumerate(df.columns.to_list()):\n",
    "    plt.subplot(int(np.ceil(df.columns.size)), 4, i + 1)\n",
    "    sns.boxplot(y=col, data=df)\n",
    "\n",
    "plt.tight_layout()\n",
    "\n",
    "plt.show()"
   ]
  },
  {
   "cell_type": "code",
   "execution_count": 13,
   "id": "dcba9062",
   "metadata": {},
   "outputs": [],
   "source": [
    "# Разделим данные на зависимую и независимые переменные\n",
    "features = df.drop(columns=[\"is_fraud\"]).to_numpy()\n",
    "labels = df[\"is_fraud\"].to_numpy()"
   ]
  },
  {
   "cell_type": "code",
   "execution_count": null,
   "id": "8b775f01",
   "metadata": {},
   "outputs": [],
   "source": [
    "isoForest = IsolationForest(contamination=0.07,random_state=0)"
   ]
  },
  {
   "cell_type": "code",
   "execution_count": null,
   "id": "40f965f6",
   "metadata": {},
   "outputs": [],
   "source": [
    "isoForest.fit(features)"
   ]
  },
  {
   "cell_type": "code",
   "execution_count": null,
   "id": "2ea8e71b",
   "metadata": {},
   "outputs": [],
   "source": [
    "# выявим выбросы в данных\n",
    "is_anomaly = pd.DataFrame(isoForest.predict(features))\n",
    "is_anomaly.value_counts()"
   ]
  },
  {
   "cell_type": "code",
   "execution_count": null,
   "id": "c8139b8a",
   "metadata": {},
   "outputs": [],
   "source": [
    "# Запишем индексы выбросов в ввиде массива булевых значений\n",
    "anomaly_indices = list()\n",
    "\n",
    "for i in range(is_anomaly.size):\n",
    "    # Оставим данные минорного класса, так как, скорее всего, такие данные были ошибочно\n",
    "    # помечены как выбросы\n",
    "    anomaly_indices.append(is_anomaly[0][i] == -1 and df[\"is_fraud\"][i] == 0)\n",
    "    \n",
    "anomaly_indices = df[np.array(anomaly_indices)].index\n",
    "anomaly_indices[-5:] #пять последних элементов"
   ]
  },
  {
   "cell_type": "code",
   "execution_count": null,
   "id": "44fe5b2e",
   "metadata": {},
   "outputs": [],
   "source": [
    "anomaly_indices.size"
   ]
  },
  {
   "cell_type": "code",
   "execution_count": null,
   "id": "7904fa40",
   "metadata": {},
   "outputs": [],
   "source": [
    "np.sum(df.iloc[anomaly_indices][\"is_fraud\"] == 1)\n",
    "np.sum(df.iloc[anomaly_indices][\"is_fraud\"] == 0)"
   ]
  },
  {
   "cell_type": "code",
   "execution_count": null,
   "id": "b0d542cc",
   "metadata": {},
   "outputs": [],
   "source": [
    "anomaly_indices.size / df.shape[0]"
   ]
  },
  {
   "cell_type": "code",
   "execution_count": null,
   "id": "01a30afa",
   "metadata": {},
   "outputs": [],
   "source": [
    "df.drop(index=anomaly_indices, inplace=True)\n",
    "df.reset_index()\n",
    "df.head(3)"
   ]
  },
  {
   "cell_type": "code",
   "execution_count": 14,
   "id": "175e673f",
   "metadata": {},
   "outputs": [],
   "source": [
    "# Разделим данные на зависимую и независимые переменные\n",
    "features = df.drop(columns=[\"is_fraud\"]).to_numpy()\n",
    "labels = df[\"is_fraud\"].to_numpy()"
   ]
  },
  {
   "cell_type": "code",
   "execution_count": 15,
   "id": "2e68c1af",
   "metadata": {},
   "outputs": [],
   "source": [
    "from sklearn.feature_selection import SelectKBest\n",
    "from sklearn.feature_selection import f_classif\n",
    "from sklearn.feature_selection import chi2\n",
    "from sklearn.decomposition import PCA\n",
    "from sklearn.ensemble import ExtraTreesClassifier"
   ]
  },
  {
   "cell_type": "code",
   "execution_count": 16,
   "id": "9b733419",
   "metadata": {},
   "outputs": [],
   "source": [
    "extTreesClf = ExtraTreesClassifier(n_estimators=100)"
   ]
  },
  {
   "cell_type": "code",
   "execution_count": 17,
   "id": "2e98cc74",
   "metadata": {},
   "outputs": [
    {
     "name": "stdout",
     "output_type": "stream",
     "text": [
      "[0.08477863 0.01509998 0.05122007 0.06546352 0.35127183 0.01521078\n",
      " 0.01532326 0.00567415 0.01586812 0.01490218 0.01296279 0.01406385\n",
      " 0.01447296 0.01395802 0.01898158 0.01525927 0.01703793 0.0512529\n",
      " 0.08420638 0.05559048 0.05674648 0.01065484]\n"
     ]
    }
   ],
   "source": [
    "extTreesClf.fit(features, labels)\n",
    "print(extTreesClf.feature_importances_)"
   ]
  },
  {
   "cell_type": "code",
   "execution_count": 18,
   "id": "79cf4ec9",
   "metadata": {},
   "outputs": [
    {
     "data": {
      "text/html": [
       "<div>\n",
       "<style scoped>\n",
       "    .dataframe tbody tr th:only-of-type {\n",
       "        vertical-align: middle;\n",
       "    }\n",
       "\n",
       "    .dataframe tbody tr th {\n",
       "        vertical-align: top;\n",
       "    }\n",
       "\n",
       "    .dataframe thead th {\n",
       "        text-align: right;\n",
       "    }\n",
       "</style>\n",
       "<table border=\"1\" class=\"dataframe\">\n",
       "  <thead>\n",
       "    <tr style=\"text-align: right;\">\n",
       "      <th></th>\n",
       "      <th>extratrees</th>\n",
       "    </tr>\n",
       "  </thead>\n",
       "  <tbody>\n",
       "    <tr>\n",
       "      <th>4</th>\n",
       "      <td>0.351272</td>\n",
       "    </tr>\n",
       "    <tr>\n",
       "      <th>0</th>\n",
       "      <td>0.084779</td>\n",
       "    </tr>\n",
       "    <tr>\n",
       "      <th>18</th>\n",
       "      <td>0.084206</td>\n",
       "    </tr>\n",
       "    <tr>\n",
       "      <th>3</th>\n",
       "      <td>0.065464</td>\n",
       "    </tr>\n",
       "    <tr>\n",
       "      <th>20</th>\n",
       "      <td>0.056746</td>\n",
       "    </tr>\n",
       "  </tbody>\n",
       "</table>\n",
       "</div>"
      ],
      "text/plain": [
       "    extratrees\n",
       "4     0.351272\n",
       "0     0.084779\n",
       "18    0.084206\n",
       "3     0.065464\n",
       "20    0.056746"
      ]
     },
     "execution_count": 18,
     "metadata": {},
     "output_type": "execute_result"
    }
   ],
   "source": [
    "ext = pd.DataFrame(extTreesClf.feature_importances_,columns=[\"extratrees\"])\n",
    "# Сортируем по значимости признаков\n",
    "ext = ext.sort_values(['extratrees'], ascending=False)\n",
    "ext[:5]"
   ]
  },
  {
   "cell_type": "code",
   "execution_count": 19,
   "id": "dd56df8e",
   "metadata": {},
   "outputs": [
    {
     "name": "stdout",
     "output_type": "stream",
     "text": [
      "Имена 10 самых значимых признаков ['transaction_amount', 'transaction_time', 'unix_time', 'category', 'merchant_longitude', 'merchant_latitude', 'transaction_number', 'merchant_name', 'city_population', 'birthday']\n"
     ]
    },
    {
     "data": {
      "text/plain": [
       "array([[ 4.97000000e+00,  1.54630082e+09,  1.32537602e+09,\n",
       "         8.00000000e+00, -8.20483150e+01,  3.60112930e+01,\n",
       "         8.03260000e+04,  5.14000000e+02,  3.49500000e+03,\n",
       "         5.73868800e+08],\n",
       "       [ 1.07230000e+02,  1.54630084e+09,  1.32537604e+09,\n",
       "         4.00000000e+00, -1.18186462e+02,  4.91590470e+01,\n",
       "         2.27462000e+05,  2.41000000e+02,  1.49000000e+02,\n",
       "         2.67235200e+08],\n",
       "       [ 2.20110000e+02,  1.54630085e+09,  1.32537605e+09,\n",
       "         0.00000000e+00, -1.12154481e+02,  4.31507040e+01,\n",
       "         1.16903000e+06,  3.90000000e+02,  4.15400000e+03,\n",
       "        -2.50905600e+08]])"
      ]
     },
     "execution_count": 19,
     "metadata": {},
     "output_type": "execute_result"
    }
   ],
   "source": [
    "# Достанем имена признаков из номеров\n",
    "most_important_features_names = df.columns[ext[:10].index].to_list()\n",
    "print(\"Имена 10 самых значимых признаков\", most_important_features_names)\n",
    "# Выберем 10 самых значимых признаков\n",
    "selected_features = features[:, ext[:10].index]\n",
    "selected_features[:3]"
   ]
  },
  {
   "cell_type": "code",
   "execution_count": 20,
   "id": "418585f7",
   "metadata": {},
   "outputs": [
    {
     "data": {
      "text/plain": [
       "array([[-0.57827389, -0.99923704, -1.00470943,  0.28571429,  0.32378233,\n",
       "        -0.4652913 , -0.91327326,  0.48275862,  0.05370909,  0.49706176],\n",
       "       [ 0.8137762 , -0.99923622, -1.0047086 , -0.28571429, -1.84611238,\n",
       "         1.35670116, -0.75441281, -0.30172414, -0.1171185 ,  0.10355915],\n",
       "       [ 2.35039477, -0.999236  , -1.00470838, -0.85714286, -1.48392547,\n",
       "         0.52407563,  0.26218356,  0.12643678,  0.08735386, -0.56137044]])"
      ]
     },
     "execution_count": 20,
     "metadata": {},
     "output_type": "execute_result"
    }
   ],
   "source": [
    "# Преобразуем данные\n",
    "r_scaler = RobustScaler()\n",
    "selected_features = r_scaler.fit_transform(selected_features)\n",
    "selected_features[:3]"
   ]
  },
  {
   "cell_type": "code",
   "execution_count": 23,
   "id": "a2355de2",
   "metadata": {},
   "outputs": [
    {
     "data": {
      "text/plain": [
       "array([[-0.40874072, -1.8247539 , -1.83006655,  0.45216158,  0.59446292,\n",
       "        -0.49508025, -1.58183484,  0.85089077, -0.28242851,  0.82729043],\n",
       "       [ 0.23337843, -1.82475247, -1.83006512, -0.57000089, -2.03191538,\n",
       "         2.08008184, -1.3066806 , -0.50696822, -0.29352681,  0.26895013],\n",
       "       [ 0.94218354, -1.82475209, -1.83006474, -1.59216336, -1.59353474,\n",
       "         0.90326813,  0.45411501,  0.2341343 , -0.28024268, -0.67451754]])"
      ]
     },
     "execution_count": 23,
     "metadata": {},
     "output_type": "execute_result"
    }
   ],
   "source": [
    "# Преобразуем данные\n",
    "std_scaler = StandardScaler()\n",
    "selected_features = std_scaler.fit_transform(selected_features)\n",
    "selected_features[:3]"
   ]
  },
  {
   "cell_type": "code",
   "execution_count": 24,
   "id": "3c0ec98a",
   "metadata": {},
   "outputs": [],
   "source": [
    "from sklearn.model_selection import StratifiedShuffleSplit\n",
    "from sklearn.model_selection import train_test_split"
   ]
  },
  {
   "cell_type": "code",
   "execution_count": 25,
   "id": "b8561381",
   "metadata": {},
   "outputs": [
    {
     "data": {
      "text/plain": [
       "((1852394, 10), (1852394,))"
      ]
     },
     "execution_count": 25,
     "metadata": {},
     "output_type": "execute_result"
    }
   ],
   "source": [
    "selected_features.shape, labels.shape"
   ]
  },
  {
   "cell_type": "code",
   "execution_count": 26,
   "id": "414d3ed6",
   "metadata": {},
   "outputs": [],
   "source": [
    "df_features = df.drop(columns=[\"is_fraud\"]).copy()\n",
    "features, labels = df_features.copy(), df[\"is_fraud\"].copy()"
   ]
  },
  {
   "cell_type": "code",
   "execution_count": 27,
   "id": "dc330f51",
   "metadata": {},
   "outputs": [],
   "source": [
    "features_train, features_test, labels_train, labels_test = train_test_split(selected_features, labels, test_size=0.15, random_state=10)"
   ]
  },
  {
   "cell_type": "code",
   "execution_count": 28,
   "id": "1206fd28",
   "metadata": {},
   "outputs": [
    {
     "data": {
      "text/plain": [
       "8"
      ]
     },
     "execution_count": 28,
     "metadata": {},
     "output_type": "execute_result"
    }
   ],
   "source": [
    "sss = StratifiedShuffleSplit(n_splits=8, test_size=0.3, random_state=0)\n",
    "sss.get_n_splits(selected_features, labels)"
   ]
  },
  {
   "cell_type": "code",
   "execution_count": 29,
   "id": "702b0476",
   "metadata": {},
   "outputs": [],
   "source": [
    "df_features = df.drop(columns=[\"is_fraud\"]).copy()"
   ]
  },
  {
   "cell_type": "code",
   "execution_count": 30,
   "id": "15beb4bc",
   "metadata": {},
   "outputs": [
    {
     "name": "stdout",
     "output_type": "stream",
     "text": [
      "Fold 0:\n",
      "  Train: index=[ 148639  371300 1057490 ...  708670  881495 1119928], shape=(1296675,)\n",
      "  Test:  index=[1773139  369627  613660 ...  791937 1359339 1599354], shape=(555719,)\n",
      "Fold 1:\n",
      "  Train: index=[   2934  170264 1134780 ... 1579183 1590752  478401], shape=(1296675,)\n",
      "  Test:  index=[1247756 1304199 1100497 ...  602200  821113  297366], shape=(555719,)\n",
      "Fold 2:\n",
      "  Train: index=[1525568 1482096   45159 ... 1519801  777442  504069], shape=(1296675,)\n",
      "  Test:  index=[1597995  650819 1509173 ...  559054   95064 1269177], shape=(555719,)\n",
      "Fold 3:\n",
      "  Train: index=[1075132 1709700  168629 ...  397232  281735  538866], shape=(1296675,)\n",
      "  Test:  index=[ 121803   48391 1736269 ...  487085   48606 1624847], shape=(555719,)\n",
      "Fold 4:\n",
      "  Train: index=[1021911 1818173 1576679 ...  558075 1370953  115053], shape=(1296675,)\n",
      "  Test:  index=[ 408687  898627  888090 ... 1455411  391231  176234], shape=(555719,)\n",
      "Fold 5:\n",
      "  Train: index=[ 242156  914928 1519366 ... 1541484  890100  172247], shape=(1296675,)\n",
      "  Test:  index=[1332663   53118 1157852 ...  423115 1765433 1012941], shape=(555719,)\n",
      "Fold 6:\n",
      "  Train: index=[ 701858 1645763 1506697 ...  199473 1423329 1271833], shape=(1296675,)\n",
      "  Test:  index=[1692131  616241  749805 ...   51122  122866 1409598], shape=(555719,)\n",
      "Fold 7:\n",
      "  Train: index=[1259217  592408 1241706 ... 1050998  119867 1492338], shape=(1296675,)\n",
      "  Test:  index=[1733763  214057 1340576 ...  340530  998855 1010375], shape=(555719,)\n"
     ]
    }
   ],
   "source": [
    "train_indices, test_indices = list(), list()\n",
    "\n",
    "for i, (train_index, test_index) in enumerate(sss.split(df_features, labels)):\n",
    "    print(f\"Fold {i}:\")\n",
    "    print(f\"  Train: index={train_index}, shape={train_index.shape}\")\n",
    "    print(f\"  Test:  index={test_index}, shape={test_index.shape}\")\n",
    "    train_indices, test_indices = train_index, test_index"
   ]
  },
  {
   "cell_type": "code",
   "execution_count": 31,
   "id": "3e37eca7",
   "metadata": {},
   "outputs": [
    {
     "data": {
      "text/plain": [
       "(1852394, 10)"
      ]
     },
     "execution_count": 31,
     "metadata": {},
     "output_type": "execute_result"
    }
   ],
   "source": [
    "selected_features.shape"
   ]
  },
  {
   "cell_type": "code",
   "execution_count": 32,
   "id": "a86b5a65",
   "metadata": {},
   "outputs": [],
   "source": [
    "X_train, X_test = selected_features[train_indices], selected_features[test_indices]\n",
    "Y_train, Y_test = labels.iloc[train_indices], labels.iloc[test_indices]"
   ]
  },
  {
   "cell_type": "code",
   "execution_count": 33,
   "id": "70bead6f",
   "metadata": {},
   "outputs": [
    {
     "data": {
      "text/plain": [
       "6756"
      ]
     },
     "execution_count": 33,
     "metadata": {},
     "output_type": "execute_result"
    }
   ],
   "source": [
    "np.sum(Y_train == 1)"
   ]
  },
  {
   "cell_type": "code",
   "execution_count": 34,
   "id": "bb426d0c",
   "metadata": {},
   "outputs": [
    {
     "data": {
      "text/plain": [
       "2895"
      ]
     },
     "execution_count": 34,
     "metadata": {},
     "output_type": "execute_result"
    }
   ],
   "source": [
    "np.sum(Y_test == 1)"
   ]
  },
  {
   "cell_type": "code",
   "execution_count": 35,
   "id": "24ea476a",
   "metadata": {},
   "outputs": [],
   "source": [
    "underX_Train, underY_Train = NearMiss(sampling_strategy=0.1).fit_resample(X_train, Y_train)"
   ]
  },
  {
   "cell_type": "code",
   "execution_count": 36,
   "id": "d90640fe",
   "metadata": {},
   "outputs": [
    {
     "data": {
      "text/plain": [
       "(74316, 10)"
      ]
     },
     "execution_count": 36,
     "metadata": {},
     "output_type": "execute_result"
    }
   ],
   "source": [
    "underX_Train.shape"
   ]
  },
  {
   "cell_type": "code",
   "execution_count": 37,
   "id": "6a63929c",
   "metadata": {},
   "outputs": [
    {
     "name": "stdout",
     "output_type": "stream",
     "text": [
      "67560\n",
      "6756\n"
     ]
    }
   ],
   "source": [
    "print(np.sum(underY_Train == 0))\n",
    "print(np.sum(underY_Train == 1))"
   ]
  },
  {
   "cell_type": "code",
   "execution_count": 38,
   "id": "626d1e7c",
   "metadata": {},
   "outputs": [],
   "source": [
    "preparedX_train, preparedY_train = SMOTE(sampling_strategy=\"minority\").fit_resample(underX_Train, underY_Train)"
   ]
  },
  {
   "cell_type": "code",
   "execution_count": 39,
   "id": "bc2d34ac",
   "metadata": {},
   "outputs": [
    {
     "data": {
      "text/plain": [
       "(135120, 10)"
      ]
     },
     "execution_count": 39,
     "metadata": {},
     "output_type": "execute_result"
    }
   ],
   "source": [
    "preparedX_train.shape"
   ]
  },
  {
   "cell_type": "code",
   "execution_count": 40,
   "id": "093b2b93",
   "metadata": {},
   "outputs": [
    {
     "name": "stdout",
     "output_type": "stream",
     "text": [
      "67560\n",
      "67560\n"
     ]
    }
   ],
   "source": [
    "print(np.sum(preparedY_train == 0))\n",
    "print(np.sum(preparedY_train == 1))"
   ]
  },
  {
   "cell_type": "code",
   "execution_count": 41,
   "id": "7742d5ce",
   "metadata": {},
   "outputs": [],
   "source": [
    "# # # # # # # # # # # # # # # # # # # # # # # # # # # # # # # # # # # # # # # # # # # # #  "
   ]
  },
  {
   "cell_type": "code",
   "execution_count": 62,
   "id": "7d7b044d",
   "metadata": {},
   "outputs": [],
   "source": [
    "pca = PCA(n_components=8)"
   ]
  },
  {
   "cell_type": "code",
   "execution_count": 63,
   "id": "13b61ede",
   "metadata": {},
   "outputs": [
    {
     "name": "stdout",
     "output_type": "stream",
     "text": [
      "CPU times: total: 31.2 ms\n",
      "Wall time: 30.5 ms\n"
     ]
    }
   ],
   "source": [
    "%%time\n",
    "pca_features = pca.fit_transform(preparedX_train, preparedY_train)"
   ]
  },
  {
   "cell_type": "code",
   "execution_count": 64,
   "id": "a94e30d9",
   "metadata": {},
   "outputs": [
    {
     "data": {
      "text/plain": [
       "array([5.75641411, 1.7225471 , 0.87974827, 0.83687007, 0.75836726,\n",
       "       0.73988349, 0.67099926, 0.57027191])"
      ]
     },
     "execution_count": 64,
     "metadata": {},
     "output_type": "execute_result"
    }
   ],
   "source": [
    "pca.explained_variance_"
   ]
  },
  {
   "cell_type": "code",
   "execution_count": 65,
   "id": "f66a96f3",
   "metadata": {},
   "outputs": [
    {
     "data": {
      "text/plain": [
       "(8, 10)"
      ]
     },
     "execution_count": 65,
     "metadata": {},
     "output_type": "execute_result"
    }
   ],
   "source": [
    "pca.components_.shape"
   ]
  },
  {
   "cell_type": "code",
   "execution_count": 66,
   "id": "ce2d0bb6",
   "metadata": {},
   "outputs": [
    {
     "data": {
      "text/plain": [
       "96.14663606725388"
      ]
     },
     "execution_count": 66,
     "metadata": {},
     "output_type": "execute_result"
    }
   ],
   "source": [
    "sum(pca.explained_variance_ratio_)*100"
   ]
  },
  {
   "cell_type": "code",
   "execution_count": 67,
   "id": "319c6b83",
   "metadata": {},
   "outputs": [
    {
     "data": {
      "text/plain": [
       "(135120, 8)"
      ]
     },
     "execution_count": 67,
     "metadata": {},
     "output_type": "execute_result"
    }
   ],
   "source": [
    "pca_features.shape"
   ]
  },
  {
   "cell_type": "code",
   "execution_count": 68,
   "id": "272ac7cd",
   "metadata": {},
   "outputs": [],
   "source": [
    "feature_normalization_layer = tf.keras.layers.Normalization()\n",
    "feature_normalization_layer.adapt(preparedX_train)"
   ]
  },
  {
   "cell_type": "code",
   "execution_count": 69,
   "id": "6ba20736",
   "metadata": {},
   "outputs": [
    {
     "name": "stdout",
     "output_type": "stream",
     "text": [
      "Model: \"sequential\"\n",
      "_________________________________________________________________\n",
      " Layer (type)                Output Shape              Param #   \n",
      "=================================================================\n",
      " normalization (Normalizatio  (None, 10)               21        \n",
      " n)                                                              \n",
      "                                                                 \n",
      " dense (Dense)               (None, 16)                176       \n",
      "                                                                 \n",
      " dense_1 (Dense)             (None, 32)                544       \n",
      "                                                                 \n",
      " dense_2 (Dense)             (None, 64)                2112      \n",
      "                                                                 \n",
      " dense_3 (Dense)             (None, 128)               8320      \n",
      "                                                                 \n",
      " dense_4 (Dense)             (None, 256)               33024     \n",
      "                                                                 \n",
      " dense_5 (Dense)             (None, 128)               32896     \n",
      "                                                                 \n",
      " dense_6 (Dense)             (None, 64)                8256      \n",
      "                                                                 \n",
      " dense_7 (Dense)             (None, 32)                2080      \n",
      "                                                                 \n",
      " dense_8 (Dense)             (None, 16)                528       \n",
      "                                                                 \n",
      " dense_9 (Dense)             (None, 1)                 17        \n",
      "                                                                 \n",
      "=================================================================\n",
      "Total params: 87,974\n",
      "Trainable params: 87,953\n",
      "Non-trainable params: 21\n",
      "_________________________________________________________________\n"
     ]
    }
   ],
   "source": [
    "model = tf.keras.Sequential([\n",
    "    feature_normalization_layer,\n",
    "    tf.keras.layers.Dense(units=16, activation=\"relu\"),\n",
    "    tf.keras.layers.Dense(units=32, activation=\"relu\"),\n",
    "    tf.keras.layers.Dense(units=64, activation=\"relu\"),\n",
    "    tf.keras.layers.Dense(units=128, activation=\"relu\"),\n",
    "    tf.keras.layers.Dense(units=256, activation=\"relu\"),\n",
    "    tf.keras.layers.Dense(units=128, activation=\"relu\"),\n",
    "    tf.keras.layers.Dense(units=64, activation=\"relu\"),\n",
    "    tf.keras.layers.Dense(units=32, activation=\"relu\"),\n",
    "    tf.keras.layers.Dense(units=16, activation=\"relu\"),\n",
    "    tf.keras.layers.Dense(units=1, activation=\"sigmoid\")\n",
    "])\n",
    "\n",
    "model.summary()"
   ]
  },
  {
   "cell_type": "code",
   "execution_count": 70,
   "id": "99a68b60",
   "metadata": {},
   "outputs": [],
   "source": [
    "model.compile(\n",
    "    loss=tf.keras.losses.BinaryCrossentropy(), \n",
    "    optimizer=tf.keras.optimizers.Adam(learning_rate=10**-2),\n",
    "    #metrics=[tf.keras.metrics.BinatyAccuracy()]\n",
    "    metrics=[tf.keras.metrics.Recall(), tf.keras.metrics.BinaryAccuracy()]    \n",
    ")"
   ]
  },
  {
   "cell_type": "code",
   "execution_count": 71,
   "id": "864c1d94",
   "metadata": {},
   "outputs": [
    {
     "name": "stdout",
     "output_type": "stream",
     "text": [
      "Epoch 1/40\n",
      "2112/2112 [==============================] - 26s 12ms/step - loss: 0.2697 - recall: 0.8508 - binary_accuracy: 0.8999 - val_loss: 1.1487 - val_recall: 0.8984 - val_binary_accuracy: 0.6187\n",
      "Epoch 2/40\n",
      "2112/2112 [==============================] - 24s 11ms/step - loss: 0.2099 - recall: 0.8855 - binary_accuracy: 0.9229 - val_loss: 0.9073 - val_recall: 0.8691 - val_binary_accuracy: 0.7203\n",
      "Epoch 3/40\n",
      "2112/2112 [==============================] - 24s 11ms/step - loss: 0.1939 - recall: 0.8976 - binary_accuracy: 0.9275 - val_loss: 0.6802 - val_recall: 0.9285 - val_binary_accuracy: 0.6715\n",
      "Epoch 4/40\n",
      "2112/2112 [==============================] - 24s 11ms/step - loss: 0.1907 - recall: 0.9006 - binary_accuracy: 0.9290 - val_loss: 1.1261 - val_recall: 0.9333 - val_binary_accuracy: 0.6328\n",
      "Epoch 5/40\n",
      "2112/2112 [==============================] - 24s 11ms/step - loss: 0.1814 - recall: 0.9057 - binary_accuracy: 0.9310 - val_loss: 1.1869 - val_recall: 0.8653 - val_binary_accuracy: 0.6503\n",
      "Epoch 6/40\n",
      "2112/2112 [==============================] - 24s 11ms/step - loss: 0.1927 - recall: 0.9162 - binary_accuracy: 0.9343 - val_loss: 0.9119 - val_recall: 0.9223 - val_binary_accuracy: 0.7025\n",
      "Epoch 7/40\n",
      "2112/2112 [==============================] - 24s 12ms/step - loss: 0.1683 - recall: 0.9179 - binary_accuracy: 0.9361 - val_loss: 1.1733 - val_recall: 0.9288 - val_binary_accuracy: 0.6619\n",
      "Epoch 8/40\n",
      "2112/2112 [==============================] - 24s 11ms/step - loss: 0.2681 - recall: 0.8808 - binary_accuracy: 0.9049 - val_loss: 1.1819 - val_recall: 0.9078 - val_binary_accuracy: 0.6477\n",
      "Epoch 9/40\n",
      "2112/2112 [==============================] - 24s 11ms/step - loss: 0.4411 - recall: 0.9000 - binary_accuracy: 0.7992 - val_loss: 0.8647 - val_recall: 0.9223 - val_binary_accuracy: 0.3308\n",
      "Epoch 10/40\n",
      "2112/2112 [==============================] - 24s 11ms/step - loss: 0.6011 - recall: 0.9198 - binary_accuracy: 0.6562 - val_loss: 0.8441 - val_recall: 0.8857 - val_binary_accuracy: 0.4250\n",
      "Epoch 11/40\n",
      "2112/2112 [==============================] - 24s 11ms/step - loss: 0.6214 - recall: 0.6592 - binary_accuracy: 0.6168 - val_loss: 0.7128 - val_recall: 0.9993 - val_binary_accuracy: 0.0071\n",
      "Epoch 12/40\n",
      "2112/2112 [==============================] - 24s 11ms/step - loss: 0.6926 - recall: 0.5526 - binary_accuracy: 0.4977 - val_loss: 0.7226 - val_recall: 0.9993 - val_binary_accuracy: 0.0071\n",
      "Epoch 13/40\n",
      "2112/2112 [==============================] - 24s 11ms/step - loss: 0.6925 - recall: 0.5016 - binary_accuracy: 0.4990 - val_loss: 0.6994 - val_recall: 0.9993 - val_binary_accuracy: 0.0071\n",
      "Epoch 14/40\n",
      "1869/2112 [=========================>....] - ETA: 0s - loss: 0.6925 - recall: 0.5322 - binary_accuracy: 0.5032"
     ]
    },
    {
     "ename": "KeyboardInterrupt",
     "evalue": "",
     "output_type": "error",
     "traceback": [
      "\u001b[1;31m---------------------------------------------------------------------------\u001b[0m",
      "\u001b[1;31mKeyboardInterrupt\u001b[0m                         Traceback (most recent call last)",
      "File \u001b[1;32m<timed eval>:1\u001b[0m\n",
      "File \u001b[1;32m~\\anaconda3\\envs\\tf\\lib\\site-packages\\keras\\utils\\traceback_utils.py:65\u001b[0m, in \u001b[0;36mfilter_traceback.<locals>.error_handler\u001b[1;34m(*args, **kwargs)\u001b[0m\n\u001b[0;32m     63\u001b[0m filtered_tb \u001b[38;5;241m=\u001b[39m \u001b[38;5;28;01mNone\u001b[39;00m\n\u001b[0;32m     64\u001b[0m \u001b[38;5;28;01mtry\u001b[39;00m:\n\u001b[1;32m---> 65\u001b[0m     \u001b[38;5;28;01mreturn\u001b[39;00m fn(\u001b[38;5;241m*\u001b[39margs, \u001b[38;5;241m*\u001b[39m\u001b[38;5;241m*\u001b[39mkwargs)\n\u001b[0;32m     66\u001b[0m \u001b[38;5;28;01mexcept\u001b[39;00m \u001b[38;5;167;01mException\u001b[39;00m \u001b[38;5;28;01mas\u001b[39;00m e:\n\u001b[0;32m     67\u001b[0m     filtered_tb \u001b[38;5;241m=\u001b[39m _process_traceback_frames(e\u001b[38;5;241m.\u001b[39m__traceback__)\n",
      "File \u001b[1;32m~\\anaconda3\\envs\\tf\\lib\\site-packages\\keras\\engine\\training.py:1555\u001b[0m, in \u001b[0;36mModel.fit\u001b[1;34m(self, x, y, batch_size, epochs, verbose, callbacks, validation_split, validation_data, shuffle, class_weight, sample_weight, initial_epoch, steps_per_epoch, validation_steps, validation_batch_size, validation_freq, max_queue_size, workers, use_multiprocessing)\u001b[0m\n\u001b[0;32m   1551\u001b[0m \u001b[38;5;28;01mwith\u001b[39;00m data_handler\u001b[38;5;241m.\u001b[39mcatch_stop_iteration():\n\u001b[0;32m   1552\u001b[0m     data_handler\u001b[38;5;241m.\u001b[39m_initial_step \u001b[38;5;241m=\u001b[39m data_handler\u001b[38;5;241m.\u001b[39m_initial_step \u001b[38;5;129;01mor\u001b[39;00m (\n\u001b[0;32m   1553\u001b[0m         \u001b[38;5;28mself\u001b[39m\u001b[38;5;241m.\u001b[39m_maybe_load_initial_step_from_ckpt()\n\u001b[0;32m   1554\u001b[0m     )\n\u001b[1;32m-> 1555\u001b[0m     \u001b[38;5;28;01mfor\u001b[39;00m step \u001b[38;5;129;01min\u001b[39;00m data_handler\u001b[38;5;241m.\u001b[39msteps():\n\u001b[0;32m   1556\u001b[0m         \u001b[38;5;28;01mwith\u001b[39;00m tf\u001b[38;5;241m.\u001b[39mprofiler\u001b[38;5;241m.\u001b[39mexperimental\u001b[38;5;241m.\u001b[39mTrace(\n\u001b[0;32m   1557\u001b[0m             \u001b[38;5;124m\"\u001b[39m\u001b[38;5;124mtrain\u001b[39m\u001b[38;5;124m\"\u001b[39m,\n\u001b[0;32m   1558\u001b[0m             epoch_num\u001b[38;5;241m=\u001b[39mepoch,\n\u001b[1;32m   (...)\u001b[0m\n\u001b[0;32m   1561\u001b[0m             _r\u001b[38;5;241m=\u001b[39m\u001b[38;5;241m1\u001b[39m,\n\u001b[0;32m   1562\u001b[0m         ):\n\u001b[0;32m   1563\u001b[0m             callbacks\u001b[38;5;241m.\u001b[39mon_train_batch_begin(step)\n",
      "File \u001b[1;32m~\\anaconda3\\envs\\tf\\lib\\site-packages\\keras\\engine\\data_adapter.py:1374\u001b[0m, in \u001b[0;36mDataHandler.steps\u001b[1;34m(self)\u001b[0m\n\u001b[0;32m   1372\u001b[0m \u001b[38;5;28;01mif\u001b[39;00m \u001b[38;5;28mself\u001b[39m\u001b[38;5;241m.\u001b[39m_insufficient_data:  \u001b[38;5;66;03m# Set by `catch_stop_iteration`.\u001b[39;00m\n\u001b[0;32m   1373\u001b[0m     \u001b[38;5;28;01mbreak\u001b[39;00m\n\u001b[1;32m-> 1374\u001b[0m original_spe \u001b[38;5;241m=\u001b[39m \u001b[38;5;28;43mself\u001b[39;49m\u001b[38;5;241;43m.\u001b[39;49m\u001b[43m_steps_per_execution\u001b[49m\u001b[38;5;241;43m.\u001b[39;49m\u001b[43mnumpy\u001b[49m\u001b[43m(\u001b[49m\u001b[43m)\u001b[49m\u001b[38;5;241m.\u001b[39mitem()\n\u001b[0;32m   1375\u001b[0m can_run_full_execution \u001b[38;5;241m=\u001b[39m (\n\u001b[0;32m   1376\u001b[0m     original_spe \u001b[38;5;241m==\u001b[39m \u001b[38;5;241m1\u001b[39m\n\u001b[0;32m   1377\u001b[0m     \u001b[38;5;129;01mor\u001b[39;00m \u001b[38;5;28mself\u001b[39m\u001b[38;5;241m.\u001b[39m_inferred_steps \u001b[38;5;129;01mis\u001b[39;00m \u001b[38;5;28;01mNone\u001b[39;00m\n\u001b[0;32m   1378\u001b[0m     \u001b[38;5;129;01mor\u001b[39;00m \u001b[38;5;28mself\u001b[39m\u001b[38;5;241m.\u001b[39m_inferred_steps \u001b[38;5;241m-\u001b[39m \u001b[38;5;28mself\u001b[39m\u001b[38;5;241m.\u001b[39m_current_step \u001b[38;5;241m>\u001b[39m\u001b[38;5;241m=\u001b[39m original_spe\n\u001b[0;32m   1379\u001b[0m )\n\u001b[0;32m   1381\u001b[0m \u001b[38;5;28;01mif\u001b[39;00m can_run_full_execution:\n",
      "File \u001b[1;32m~\\anaconda3\\envs\\tf\\lib\\site-packages\\tensorflow\\python\\ops\\resource_variable_ops.py:637\u001b[0m, in \u001b[0;36mBaseResourceVariable.numpy\u001b[1;34m(self)\u001b[0m\n\u001b[0;32m    635\u001b[0m \u001b[38;5;28;01mdef\u001b[39;00m \u001b[38;5;21mnumpy\u001b[39m(\u001b[38;5;28mself\u001b[39m):\n\u001b[0;32m    636\u001b[0m   \u001b[38;5;28;01mif\u001b[39;00m context\u001b[38;5;241m.\u001b[39mexecuting_eagerly():\n\u001b[1;32m--> 637\u001b[0m     \u001b[38;5;28;01mreturn\u001b[39;00m \u001b[38;5;28;43mself\u001b[39;49m\u001b[38;5;241;43m.\u001b[39;49m\u001b[43mread_value\u001b[49m\u001b[43m(\u001b[49m\u001b[43m)\u001b[49m\u001b[38;5;241m.\u001b[39mnumpy()\n\u001b[0;32m    638\u001b[0m   \u001b[38;5;28;01mraise\u001b[39;00m \u001b[38;5;167;01mNotImplementedError\u001b[39;00m(\n\u001b[0;32m    639\u001b[0m       \u001b[38;5;124m\"\u001b[39m\u001b[38;5;124mnumpy() is only available when eager execution is enabled.\u001b[39m\u001b[38;5;124m\"\u001b[39m)\n",
      "File \u001b[1;32m~\\anaconda3\\envs\\tf\\lib\\site-packages\\tensorflow\\python\\ops\\resource_variable_ops.py:728\u001b[0m, in \u001b[0;36mBaseResourceVariable.read_value\u001b[1;34m(self)\u001b[0m\n\u001b[0;32m    725\u001b[0m   value \u001b[38;5;241m=\u001b[39m \u001b[38;5;28mself\u001b[39m\u001b[38;5;241m.\u001b[39m_read_variable_op()\n\u001b[0;32m    726\u001b[0m \u001b[38;5;66;03m# Return an identity so it can get placed on whatever device the context\u001b[39;00m\n\u001b[0;32m    727\u001b[0m \u001b[38;5;66;03m# specifies instead of the device where the variable is.\u001b[39;00m\n\u001b[1;32m--> 728\u001b[0m \u001b[38;5;28;01mreturn\u001b[39;00m \u001b[43marray_ops\u001b[49m\u001b[38;5;241;43m.\u001b[39;49m\u001b[43midentity\u001b[49m\u001b[43m(\u001b[49m\u001b[43mvalue\u001b[49m\u001b[43m)\u001b[49m\n",
      "File \u001b[1;32m~\\anaconda3\\envs\\tf\\lib\\site-packages\\tensorflow\\python\\util\\traceback_utils.py:150\u001b[0m, in \u001b[0;36mfilter_traceback.<locals>.error_handler\u001b[1;34m(*args, **kwargs)\u001b[0m\n\u001b[0;32m    148\u001b[0m filtered_tb \u001b[38;5;241m=\u001b[39m \u001b[38;5;28;01mNone\u001b[39;00m\n\u001b[0;32m    149\u001b[0m \u001b[38;5;28;01mtry\u001b[39;00m:\n\u001b[1;32m--> 150\u001b[0m   \u001b[38;5;28;01mreturn\u001b[39;00m fn(\u001b[38;5;241m*\u001b[39margs, \u001b[38;5;241m*\u001b[39m\u001b[38;5;241m*\u001b[39mkwargs)\n\u001b[0;32m    151\u001b[0m \u001b[38;5;28;01mexcept\u001b[39;00m \u001b[38;5;167;01mException\u001b[39;00m \u001b[38;5;28;01mas\u001b[39;00m e:\n\u001b[0;32m    152\u001b[0m   filtered_tb \u001b[38;5;241m=\u001b[39m _process_traceback_frames(e\u001b[38;5;241m.\u001b[39m__traceback__)\n",
      "File \u001b[1;32m~\\anaconda3\\envs\\tf\\lib\\site-packages\\tensorflow\\python\\util\\dispatch.py:1176\u001b[0m, in \u001b[0;36madd_dispatch_support.<locals>.decorator.<locals>.op_dispatch_handler\u001b[1;34m(*args, **kwargs)\u001b[0m\n\u001b[0;32m   1174\u001b[0m \u001b[38;5;66;03m# Fallback dispatch system (dispatch v1):\u001b[39;00m\n\u001b[0;32m   1175\u001b[0m \u001b[38;5;28;01mtry\u001b[39;00m:\n\u001b[1;32m-> 1176\u001b[0m   \u001b[38;5;28;01mreturn\u001b[39;00m dispatch_target(\u001b[38;5;241m*\u001b[39margs, \u001b[38;5;241m*\u001b[39m\u001b[38;5;241m*\u001b[39mkwargs)\n\u001b[0;32m   1177\u001b[0m \u001b[38;5;28;01mexcept\u001b[39;00m (\u001b[38;5;167;01mTypeError\u001b[39;00m, \u001b[38;5;167;01mValueError\u001b[39;00m):\n\u001b[0;32m   1178\u001b[0m   \u001b[38;5;66;03m# Note: convert_to_eager_tensor currently raises a ValueError, not a\u001b[39;00m\n\u001b[0;32m   1179\u001b[0m   \u001b[38;5;66;03m# TypeError, when given unexpected types.  So we need to catch both.\u001b[39;00m\n\u001b[0;32m   1180\u001b[0m   result \u001b[38;5;241m=\u001b[39m dispatch(op_dispatch_handler, args, kwargs)\n",
      "File \u001b[1;32m~\\anaconda3\\envs\\tf\\lib\\site-packages\\tensorflow\\python\\ops\\array_ops.py:294\u001b[0m, in \u001b[0;36midentity\u001b[1;34m(input, name)\u001b[0m\n\u001b[0;32m    290\u001b[0m \u001b[38;5;28;01mif\u001b[39;00m context\u001b[38;5;241m.\u001b[39mexecuting_eagerly() \u001b[38;5;129;01mand\u001b[39;00m \u001b[38;5;129;01mnot\u001b[39;00m \u001b[38;5;28mhasattr\u001b[39m(\u001b[38;5;28minput\u001b[39m, \u001b[38;5;124m\"\u001b[39m\u001b[38;5;124mgraph\u001b[39m\u001b[38;5;124m\"\u001b[39m):\n\u001b[0;32m    291\u001b[0m   \u001b[38;5;66;03m# Make sure we get an input with handle data attached from resource\u001b[39;00m\n\u001b[0;32m    292\u001b[0m   \u001b[38;5;66;03m# variables. Variables have correct handle data when graph building.\u001b[39;00m\n\u001b[0;32m    293\u001b[0m   \u001b[38;5;28minput\u001b[39m \u001b[38;5;241m=\u001b[39m ops\u001b[38;5;241m.\u001b[39mconvert_to_tensor(\u001b[38;5;28minput\u001b[39m)\n\u001b[1;32m--> 294\u001b[0m ret \u001b[38;5;241m=\u001b[39m \u001b[43mgen_array_ops\u001b[49m\u001b[38;5;241;43m.\u001b[39;49m\u001b[43midentity\u001b[49m\u001b[43m(\u001b[49m\u001b[38;5;28;43minput\u001b[39;49m\u001b[43m,\u001b[49m\u001b[43m \u001b[49m\u001b[43mname\u001b[49m\u001b[38;5;241;43m=\u001b[39;49m\u001b[43mname\u001b[49m\u001b[43m)\u001b[49m\n\u001b[0;32m    295\u001b[0m \u001b[38;5;66;03m# Propagate handle data for happier shape inference for resource variables.\u001b[39;00m\n\u001b[0;32m    296\u001b[0m \u001b[38;5;28;01mif\u001b[39;00m \u001b[38;5;28mhasattr\u001b[39m(\u001b[38;5;28minput\u001b[39m, \u001b[38;5;124m\"\u001b[39m\u001b[38;5;124m_handle_data\u001b[39m\u001b[38;5;124m\"\u001b[39m):\n",
      "File \u001b[1;32m~\\anaconda3\\envs\\tf\\lib\\site-packages\\tensorflow\\python\\ops\\gen_array_ops.py:4068\u001b[0m, in \u001b[0;36midentity\u001b[1;34m(input, name)\u001b[0m\n\u001b[0;32m   4066\u001b[0m \u001b[38;5;28;01mif\u001b[39;00m tld\u001b[38;5;241m.\u001b[39mis_eager:\n\u001b[0;32m   4067\u001b[0m   \u001b[38;5;28;01mtry\u001b[39;00m:\n\u001b[1;32m-> 4068\u001b[0m     _result \u001b[38;5;241m=\u001b[39m \u001b[43mpywrap_tfe\u001b[49m\u001b[38;5;241;43m.\u001b[39;49m\u001b[43mTFE_Py_FastPathExecute\u001b[49m\u001b[43m(\u001b[49m\n\u001b[0;32m   4069\u001b[0m \u001b[43m      \u001b[49m\u001b[43m_ctx\u001b[49m\u001b[43m,\u001b[49m\u001b[43m \u001b[49m\u001b[38;5;124;43m\"\u001b[39;49m\u001b[38;5;124;43mIdentity\u001b[39;49m\u001b[38;5;124;43m\"\u001b[39;49m\u001b[43m,\u001b[49m\u001b[43m \u001b[49m\u001b[43mname\u001b[49m\u001b[43m,\u001b[49m\u001b[43m \u001b[49m\u001b[38;5;28;43minput\u001b[39;49m\u001b[43m)\u001b[49m\n\u001b[0;32m   4070\u001b[0m     \u001b[38;5;28;01mreturn\u001b[39;00m _result\n\u001b[0;32m   4071\u001b[0m   \u001b[38;5;28;01mexcept\u001b[39;00m _core\u001b[38;5;241m.\u001b[39m_NotOkStatusException \u001b[38;5;28;01mas\u001b[39;00m e:\n",
      "\u001b[1;31mKeyboardInterrupt\u001b[0m: "
     ]
    }
   ],
   "source": [
    "%%time\n",
    "model.fit(preparedX_train, preparedY_train, epochs=40, batch_size=64, validation_data=(X_test, Y_test), validation_split=0.3)"
   ]
  },
  {
   "cell_type": "code",
   "execution_count": 73,
   "id": "220b50bb",
   "metadata": {},
   "outputs": [
    {
     "name": "stdout",
     "output_type": "stream",
     "text": [
      "17367/17367 [==============================] - 20s 1ms/step\n"
     ]
    }
   ],
   "source": [
    "y_predict = model.predict(X_test)"
   ]
  },
  {
   "cell_type": "code",
   "execution_count": 74,
   "id": "d838f5a2",
   "metadata": {},
   "outputs": [
    {
     "name": "stdout",
     "output_type": "stream",
     "text": [
      "17367/17367 [==============================] - 39s 2ms/step - loss: 0.7176 - recall: 0.9993 - binary_accuracy: 0.0071\n"
     ]
    },
    {
     "data": {
      "text/plain": [
       "[0.717634379863739, 0.9993091821670532, 0.007068320643156767]"
      ]
     },
     "execution_count": 74,
     "metadata": {},
     "output_type": "execute_result"
    }
   ],
   "source": [
    "model.evaluate(X_test, Y_test)"
   ]
  },
  {
   "cell_type": "code",
   "execution_count": null,
   "id": "f2c21c39",
   "metadata": {},
   "outputs": [],
   "source": [
    "for r in range(1, features.shape[1]):\n",
    "    pca1 = PCA(n_components=r)\n",
    "    pca.fit(data_set)\n",
    "    # Останавливаемся, когда объясняемая дисперсия будет больше 97.5%\n",
    "    if (sum(pca.explained_variance_ratio_) * 100) > 97.5:    \n",
    "        print(\"r = \", r, \",Дисперсия = \", sum(pca.explained_variance_ratio_)*100, \"%\")\n",
    "        break"
   ]
  },
  {
   "cell_type": "code",
   "execution_count": null,
   "id": "68d63db7",
   "metadata": {},
   "outputs": [],
   "source": [
    "labels_train.value_counts()"
   ]
  },
  {
   "cell_type": "code",
   "execution_count": null,
   "id": "efb0dc64",
   "metadata": {},
   "outputs": [],
   "source": [
    "labels.value_counts()"
   ]
  },
  {
   "cell_type": "code",
   "execution_count": null,
   "id": "c4860fd9",
   "metadata": {},
   "outputs": [],
   "source": [
    "np.sum(labels == 1) / np.sum(labels == 0)"
   ]
  },
  {
   "cell_type": "code",
   "execution_count": null,
   "id": "82687192",
   "metadata": {},
   "outputs": [],
   "source": [
    "labels[x==1]"
   ]
  },
  {
   "cell_type": "code",
   "execution_count": null,
   "id": "00d8b5ff",
   "metadata": {},
   "outputs": [],
   "source": [
    "labels_predict = model.predict(features_test)"
   ]
  },
  {
   "cell_type": "code",
   "execution_count": null,
   "id": "9879b394",
   "metadata": {},
   "outputs": [],
   "source": [
    "np.unique(labels_predict)"
   ]
  },
  {
   "cell_type": "code",
   "execution_count": 77,
   "id": "ff9d391f",
   "metadata": {},
   "outputs": [],
   "source": [
    "from sklearn.metrics import confusion_matrix\n",
    "from sklearn.metrics import classification_report"
   ]
  },
  {
   "cell_type": "code",
   "execution_count": 78,
   "id": "a2ce7fe3",
   "metadata": {},
   "outputs": [
    {
     "data": {
      "text/plain": [
       "array([[1.],\n",
       "       [1.],\n",
       "       [1.],\n",
       "       ...,\n",
       "       [1.],\n",
       "       [1.],\n",
       "       [1.]], dtype=float32)"
      ]
     },
     "execution_count": 78,
     "metadata": {},
     "output_type": "execute_result"
    }
   ],
   "source": [
    "y_predict_labels = np.floor(y_predict + 0.5)\n",
    "y_predict_labels"
   ]
  },
  {
   "cell_type": "code",
   "execution_count": 79,
   "id": "743155cd",
   "metadata": {},
   "outputs": [
    {
     "data": {
      "text/plain": [
       "array([[  1035, 551789],\n",
       "       [     2,   2893]], dtype=int64)"
      ]
     },
     "execution_count": 79,
     "metadata": {},
     "output_type": "execute_result"
    }
   ],
   "source": [
    "confusion_matrix(Y_test, y_predict_labels)"
   ]
  },
  {
   "cell_type": "code",
   "execution_count": 80,
   "id": "d6ad276f",
   "metadata": {},
   "outputs": [],
   "source": [
    "from sklearn.ensemble import RandomForestClassifier"
   ]
  },
  {
   "cell_type": "code",
   "execution_count": 81,
   "id": "e970720f",
   "metadata": {},
   "outputs": [
    {
     "data": {
      "text/html": [
       "<style>#sk-container-id-1 {color: black;background-color: white;}#sk-container-id-1 pre{padding: 0;}#sk-container-id-1 div.sk-toggleable {background-color: white;}#sk-container-id-1 label.sk-toggleable__label {cursor: pointer;display: block;width: 100%;margin-bottom: 0;padding: 0.3em;box-sizing: border-box;text-align: center;}#sk-container-id-1 label.sk-toggleable__label-arrow:before {content: \"▸\";float: left;margin-right: 0.25em;color: #696969;}#sk-container-id-1 label.sk-toggleable__label-arrow:hover:before {color: black;}#sk-container-id-1 div.sk-estimator:hover label.sk-toggleable__label-arrow:before {color: black;}#sk-container-id-1 div.sk-toggleable__content {max-height: 0;max-width: 0;overflow: hidden;text-align: left;background-color: #f0f8ff;}#sk-container-id-1 div.sk-toggleable__content pre {margin: 0.2em;color: black;border-radius: 0.25em;background-color: #f0f8ff;}#sk-container-id-1 input.sk-toggleable__control:checked~div.sk-toggleable__content {max-height: 200px;max-width: 100%;overflow: auto;}#sk-container-id-1 input.sk-toggleable__control:checked~label.sk-toggleable__label-arrow:before {content: \"▾\";}#sk-container-id-1 div.sk-estimator input.sk-toggleable__control:checked~label.sk-toggleable__label {background-color: #d4ebff;}#sk-container-id-1 div.sk-label input.sk-toggleable__control:checked~label.sk-toggleable__label {background-color: #d4ebff;}#sk-container-id-1 input.sk-hidden--visually {border: 0;clip: rect(1px 1px 1px 1px);clip: rect(1px, 1px, 1px, 1px);height: 1px;margin: -1px;overflow: hidden;padding: 0;position: absolute;width: 1px;}#sk-container-id-1 div.sk-estimator {font-family: monospace;background-color: #f0f8ff;border: 1px dotted black;border-radius: 0.25em;box-sizing: border-box;margin-bottom: 0.5em;}#sk-container-id-1 div.sk-estimator:hover {background-color: #d4ebff;}#sk-container-id-1 div.sk-parallel-item::after {content: \"\";width: 100%;border-bottom: 1px solid gray;flex-grow: 1;}#sk-container-id-1 div.sk-label:hover label.sk-toggleable__label {background-color: #d4ebff;}#sk-container-id-1 div.sk-serial::before {content: \"\";position: absolute;border-left: 1px solid gray;box-sizing: border-box;top: 0;bottom: 0;left: 50%;z-index: 0;}#sk-container-id-1 div.sk-serial {display: flex;flex-direction: column;align-items: center;background-color: white;padding-right: 0.2em;padding-left: 0.2em;position: relative;}#sk-container-id-1 div.sk-item {position: relative;z-index: 1;}#sk-container-id-1 div.sk-parallel {display: flex;align-items: stretch;justify-content: center;background-color: white;position: relative;}#sk-container-id-1 div.sk-item::before, #sk-container-id-1 div.sk-parallel-item::before {content: \"\";position: absolute;border-left: 1px solid gray;box-sizing: border-box;top: 0;bottom: 0;left: 50%;z-index: -1;}#sk-container-id-1 div.sk-parallel-item {display: flex;flex-direction: column;z-index: 1;position: relative;background-color: white;}#sk-container-id-1 div.sk-parallel-item:first-child::after {align-self: flex-end;width: 50%;}#sk-container-id-1 div.sk-parallel-item:last-child::after {align-self: flex-start;width: 50%;}#sk-container-id-1 div.sk-parallel-item:only-child::after {width: 0;}#sk-container-id-1 div.sk-dashed-wrapped {border: 1px dashed gray;margin: 0 0.4em 0.5em 0.4em;box-sizing: border-box;padding-bottom: 0.4em;background-color: white;}#sk-container-id-1 div.sk-label label {font-family: monospace;font-weight: bold;display: inline-block;line-height: 1.2em;}#sk-container-id-1 div.sk-label-container {text-align: center;}#sk-container-id-1 div.sk-container {/* jupyter's `normalize.less` sets `[hidden] { display: none; }` but bootstrap.min.css set `[hidden] { display: none !important; }` so we also need the `!important` here to be able to override the default hidden behavior on the sphinx rendered scikit-learn.org. See: https://github.com/scikit-learn/scikit-learn/issues/21755 */display: inline-block !important;position: relative;}#sk-container-id-1 div.sk-text-repr-fallback {display: none;}</style><div id=\"sk-container-id-1\" class=\"sk-top-container\"><div class=\"sk-text-repr-fallback\"><pre>RandomForestClassifier(random_state=5)</pre><b>In a Jupyter environment, please rerun this cell to show the HTML representation or trust the notebook. <br />On GitHub, the HTML representation is unable to render, please try loading this page with nbviewer.org.</b></div><div class=\"sk-container\" hidden><div class=\"sk-item\"><div class=\"sk-estimator sk-toggleable\"><input class=\"sk-toggleable__control sk-hidden--visually\" id=\"sk-estimator-id-1\" type=\"checkbox\" checked><label for=\"sk-estimator-id-1\" class=\"sk-toggleable__label sk-toggleable__label-arrow\">RandomForestClassifier</label><div class=\"sk-toggleable__content\"><pre>RandomForestClassifier(random_state=5)</pre></div></div></div></div></div>"
      ],
      "text/plain": [
       "RandomForestClassifier(random_state=5)"
      ]
     },
     "execution_count": 81,
     "metadata": {},
     "output_type": "execute_result"
    }
   ],
   "source": [
    "model2 = RandomForestClassifier(random_state=5)\n",
    "model2.fit(preparedX_train, preparedY_train)"
   ]
  },
  {
   "cell_type": "code",
   "execution_count": 82,
   "id": "7b9edb63",
   "metadata": {},
   "outputs": [
    {
     "name": "stdout",
     "output_type": "stream",
     "text": [
      "Classification report:\n",
      "               precision    recall  f1-score   support\n",
      "\n",
      "           0       1.00      0.81      0.89    552824\n",
      "           1       0.02      0.94      0.05      2895\n",
      "\n",
      "    accuracy                           0.81    555719\n",
      "   macro avg       0.51      0.87      0.47    555719\n",
      "weighted avg       0.99      0.81      0.89    555719\n",
      "\n"
     ]
    }
   ],
   "source": [
    "predicted = model2.predict(X_test)\n",
    "print('Classification report:\\n', classification_report(Y_test, predicted))\n",
    "conf_mat = confusion_matrix(y_true=Y_test, y_pred=predicted)"
   ]
  },
  {
   "cell_type": "code",
   "execution_count": 83,
   "id": "2afe8b3c",
   "metadata": {},
   "outputs": [
    {
     "data": {
      "text/plain": [
       "array([[445073, 107751],\n",
       "       [   178,   2717]], dtype=int64)"
      ]
     },
     "execution_count": 83,
     "metadata": {},
     "output_type": "execute_result"
    }
   ],
   "source": [
    "conf_mat"
   ]
  },
  {
   "cell_type": "code",
   "execution_count": null,
   "id": "1ae5f299",
   "metadata": {},
   "outputs": [],
   "source": []
  }
 ],
 "metadata": {
  "kernelspec": {
   "display_name": "Python 3 (ipykernel)",
   "language": "python",
   "name": "python3"
  },
  "language_info": {
   "codemirror_mode": {
    "name": "ipython",
    "version": 3
   },
   "file_extension": ".py",
   "mimetype": "text/x-python",
   "name": "python",
   "nbconvert_exporter": "python",
   "pygments_lexer": "ipython3",
   "version": "3.9.16"
  }
 },
 "nbformat": 4,
 "nbformat_minor": 5
}
